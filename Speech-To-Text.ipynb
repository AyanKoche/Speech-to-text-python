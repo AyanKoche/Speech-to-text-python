{
 "cells": [
  {
   "cell_type": "code",
   "execution_count": 1,
   "id": "02d767be",
   "metadata": {},
   "outputs": [
    {
     "name": "stdout",
     "output_type": "stream",
     "text": [
      "Defaulting to user installation because normal site-packages is not writeable\n",
      "Requirement already satisfied: ibm_watson in c:\\users\\koche\\appdata\\roaming\\python\\python38\\site-packages (5.2.3)\n",
      "Requirement already satisfied: python-dateutil>=2.5.3 in c:\\users\\koche\\appdata\\roaming\\python\\python38\\site-packages (from ibm_watson) (2.8.1)\n",
      "Requirement already satisfied: websocket-client==1.1.0 in c:\\users\\koche\\appdata\\roaming\\python\\python38\\site-packages (from ibm_watson) (1.1.0)\n",
      "Requirement already satisfied: ibm-cloud-sdk-core==3.*,>=3.3.6 in c:\\users\\koche\\appdata\\roaming\\python\\python38\\site-packages (from ibm_watson) (3.11.3)\n",
      "Requirement already satisfied: requests<3.0,>=2.0 in c:\\users\\koche\\appdata\\roaming\\python\\python38\\site-packages (from ibm_watson) (2.24.0)\n",
      "Requirement already satisfied: PyJWT<3.0.0,>=2.0.1 in c:\\users\\koche\\appdata\\roaming\\python\\python38\\site-packages (from ibm-cloud-sdk-core==3.*,>=3.3.6->ibm_watson) (2.1.0)\n",
      "Requirement already satisfied: six>=1.5 in c:\\users\\koche\\appdata\\roaming\\python\\python38\\site-packages (from python-dateutil>=2.5.3->ibm_watson) (1.15.0)\n",
      "Requirement already satisfied: urllib3!=1.25.0,!=1.25.1,<1.26,>=1.21.1 in c:\\users\\koche\\appdata\\roaming\\python\\python38\\site-packages (from requests<3.0,>=2.0->ibm_watson) (1.25.11)\n",
      "Requirement already satisfied: chardet<4,>=3.0.2 in c:\\users\\koche\\appdata\\roaming\\python\\python38\\site-packages (from requests<3.0,>=2.0->ibm_watson) (3.0.4)\n",
      "Requirement already satisfied: idna<3,>=2.5 in c:\\users\\koche\\appdata\\roaming\\python\\python38\\site-packages (from requests<3.0,>=2.0->ibm_watson) (2.10)\n",
      "Requirement already satisfied: certifi>=2017.4.17 in c:\\users\\koche\\appdata\\roaming\\python\\python38\\site-packages (from requests<3.0,>=2.0->ibm_watson) (2020.6.20)\n"
     ]
    }
   ],
   "source": [
    "!pip install ibm_watson"
   ]
  },
  {
   "cell_type": "code",
   "execution_count": 2,
   "id": "562ce5e4",
   "metadata": {},
   "outputs": [],
   "source": [
    "from ibm_watson import SpeechToTextV1\n",
    "from ibm_cloud_sdk_core.authenticators import IAMAuthenticator"
   ]
  },
  {
   "cell_type": "code",
   "execution_count": 3,
   "id": "f0e0a740",
   "metadata": {},
   "outputs": [],
   "source": [
    "apikey='API KEY'\n",
    "url='URL'"
   ]
  },
  {
   "cell_type": "code",
   "execution_count": 4,
   "id": "da11efe2",
   "metadata": {},
   "outputs": [],
   "source": [
    "authenticator=IAMAuthenticator(apikey)"
   ]
  },
  {
   "cell_type": "code",
   "execution_count": 5,
   "id": "76e93443",
   "metadata": {},
   "outputs": [],
   "source": [
    "stt=SpeechToTextV1(authenticator=authenticator)\n",
    "stt.set_service_url(url)"
   ]
  },
  {
   "cell_type": "code",
   "execution_count": 18,
   "id": "b3e17616",
   "metadata": {},
   "outputs": [],
   "source": [
    "with open('Test.mp3','rb') as f:\n",
    "    res=stt.recognize(audio=f, content_type='audio/mp3', model='en-AU_BroadbandModel', continuous=True).get_result()"
   ]
  },
  {
   "cell_type": "code",
   "execution_count": 19,
   "id": "a70e302b",
   "metadata": {},
   "outputs": [
    {
     "data": {
      "text/plain": [
       "{'result_index': 0,\n",
       " 'results': [{'final': True,\n",
       "   'alternatives': [{'transcript': 'hello this is a question regarding ',\n",
       "     'confidence': 0.88}]}]}"
      ]
     },
     "execution_count": 19,
     "metadata": {},
     "output_type": "execute_result"
    }
   ],
   "source": [
    "res"
   ]
  },
  {
   "cell_type": "code",
   "execution_count": 20,
   "id": "54b6daf0",
   "metadata": {},
   "outputs": [
    {
     "data": {
      "text/plain": [
       "'hello this is a question regarding '"
      ]
     },
     "execution_count": 20,
     "metadata": {},
     "output_type": "execute_result"
    }
   ],
   "source": [
    "text=res['results'][0]['alternatives'][0]['transcript']\n",
    "text"
   ]
  },
  {
   "cell_type": "code",
   "execution_count": 21,
   "id": "36c535e3",
   "metadata": {},
   "outputs": [],
   "source": [
    "with open('text.txt','w') as convert:\n",
    "    convert.writelines(text)"
   ]
  },
  {
   "cell_type": "code",
   "execution_count": null,
   "id": "1a7c6ec0",
   "metadata": {},
   "outputs": [],
   "source": []
  }
 ],
 "metadata": {
  "kernelspec": {
   "display_name": "Python 3",
   "language": "python",
   "name": "python3"
  },
  "language_info": {
   "codemirror_mode": {
    "name": "ipython",
    "version": 3
   },
   "file_extension": ".py",
   "mimetype": "text/x-python",
   "name": "python",
   "nbconvert_exporter": "python",
   "pygments_lexer": "ipython3",
   "version": "3.8.5"
  }
 },
 "nbformat": 4,
 "nbformat_minor": 5
}
